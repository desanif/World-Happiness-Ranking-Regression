{
 "cells": [
  {
   "cell_type": "markdown",
   "metadata": {
    "collapsed": true
   },
   "source": [
    "### Import required libraries, classes, etc. and initiate spark instance."
   ]
  },
  {
   "cell_type": "code",
   "execution_count": 1,
   "metadata": {},
   "outputs": [],
   "source": [
    "import findspark\n",
    "findspark.init('/home/ubuntu/spark-2.1.1-bin-hadoop2.7')\n",
    "import pyspark\n",
    "import pandas as pd\n",
    "from pyspark.sql import SparkSession\n",
    "from pyspark.ml.linalg import Vectors\n",
    "from pyspark.ml.feature import VectorAssembler\n",
    "from pyspark.ml.feature import StringIndexer\n",
    "#from pyspark.ml import Pipeline\n",
    "from pyspark.ml.regression import LinearRegression\n",
    "from pyspark.sql.functions import asc, desc, count, sum, mean, corr, col\n",
    "\n",
    "\n",
    "spark = SparkSession.builder.appName('hr').getOrCreate()"
   ]
  },
  {
   "cell_type": "markdown",
   "metadata": {},
   "source": [
    "### Create dataframes by reading CSV files and use first row as header and infer schema"
   ]
  },
  {
   "cell_type": "code",
   "execution_count": 2,
   "metadata": {},
   "outputs": [],
   "source": [
    "wh2015 = spark.read.csv('WH_2015.csv', inferSchema=True, header=True)\n",
    "wh2016 = spark.read.csv('WH_2016.csv', inferSchema=True, header=True)\n",
    "wh2017 = spark.read.csv('WH_20171.csv', inferSchema=True, header=True)"
   ]
  },
  {
   "cell_type": "markdown",
   "metadata": {},
   "source": [
    "### Inspect data in dataframes"
   ]
  },
  {
   "cell_type": "code",
   "execution_count": 3,
   "metadata": {
    "scrolled": true
   },
   "outputs": [
    {
     "data": {
      "text/html": [
       "<div>\n",
       "<style scoped>\n",
       "    .dataframe tbody tr th:only-of-type {\n",
       "        vertical-align: middle;\n",
       "    }\n",
       "\n",
       "    .dataframe tbody tr th {\n",
       "        vertical-align: top;\n",
       "    }\n",
       "\n",
       "    .dataframe thead th {\n",
       "        text-align: right;\n",
       "    }\n",
       "</style>\n",
       "<table border=\"1\" class=\"dataframe\">\n",
       "  <thead>\n",
       "    <tr style=\"text-align: right;\">\n",
       "      <th></th>\n",
       "      <th>summary</th>\n",
       "      <th>Country</th>\n",
       "      <th>Region</th>\n",
       "      <th>Happiness Rank</th>\n",
       "      <th>Happiness Score</th>\n",
       "      <th>Standard Error</th>\n",
       "      <th>Economy (GDP per Capita)</th>\n",
       "      <th>Family</th>\n",
       "      <th>Health (Life Expectancy)</th>\n",
       "      <th>Freedom</th>\n",
       "      <th>Trust (Government Corruption)</th>\n",
       "      <th>Generosity</th>\n",
       "      <th>Dystopia Residual</th>\n",
       "    </tr>\n",
       "  </thead>\n",
       "  <tbody>\n",
       "    <tr>\n",
       "      <th>0</th>\n",
       "      <td>count</td>\n",
       "      <td>158</td>\n",
       "      <td>158</td>\n",
       "      <td>158</td>\n",
       "      <td>158</td>\n",
       "      <td>158</td>\n",
       "      <td>158</td>\n",
       "      <td>158</td>\n",
       "      <td>158</td>\n",
       "      <td>158</td>\n",
       "      <td>158</td>\n",
       "      <td>158</td>\n",
       "      <td>158</td>\n",
       "    </tr>\n",
       "    <tr>\n",
       "      <th>1</th>\n",
       "      <td>mean</td>\n",
       "      <td>None</td>\n",
       "      <td>None</td>\n",
       "      <td>79.49367088607595</td>\n",
       "      <td>5.3757341772151905</td>\n",
       "      <td>0.04788474683544306</td>\n",
       "      <td>0.8461372151898726</td>\n",
       "      <td>0.9910459493670887</td>\n",
       "      <td>0.6302593670886079</td>\n",
       "      <td>0.4286149367088611</td>\n",
       "      <td>0.14342183544303794</td>\n",
       "      <td>0.23729550632911403</td>\n",
       "      <td>2.098976772151899</td>\n",
       "    </tr>\n",
       "    <tr>\n",
       "      <th>2</th>\n",
       "      <td>stddev</td>\n",
       "      <td>None</td>\n",
       "      <td>None</td>\n",
       "      <td>45.75436310480852</td>\n",
       "      <td>1.145010134952066</td>\n",
       "      <td>0.017146178556969306</td>\n",
       "      <td>0.4031207785379107</td>\n",
       "      <td>0.2723690860079153</td>\n",
       "      <td>0.2470777663021721</td>\n",
       "      <td>0.150692783937678</td>\n",
       "      <td>0.12003407357455921</td>\n",
       "      <td>0.12668493402020534</td>\n",
       "      <td>0.5535497923037985</td>\n",
       "    </tr>\n",
       "    <tr>\n",
       "      <th>3</th>\n",
       "      <td>min</td>\n",
       "      <td>Afghanistan</td>\n",
       "      <td>Australia and New Zealand</td>\n",
       "      <td>1</td>\n",
       "      <td>2.839</td>\n",
       "      <td>0.01848</td>\n",
       "      <td>0.0</td>\n",
       "      <td>0.0</td>\n",
       "      <td>0.0</td>\n",
       "      <td>0.0</td>\n",
       "      <td>0.0</td>\n",
       "      <td>0.0</td>\n",
       "      <td>0.32858</td>\n",
       "    </tr>\n",
       "    <tr>\n",
       "      <th>4</th>\n",
       "      <td>max</td>\n",
       "      <td>Zimbabwe</td>\n",
       "      <td>Western Europe</td>\n",
       "      <td>158</td>\n",
       "      <td>7.587</td>\n",
       "      <td>0.13693</td>\n",
       "      <td>1.69042</td>\n",
       "      <td>1.40223</td>\n",
       "      <td>1.02525</td>\n",
       "      <td>0.66973</td>\n",
       "      <td>0.55191</td>\n",
       "      <td>0.79588</td>\n",
       "      <td>3.60214</td>\n",
       "    </tr>\n",
       "  </tbody>\n",
       "</table>\n",
       "</div>"
      ],
      "text/plain": [
       "  summary      Country                     Region     Happiness Rank  \\\n",
       "0   count          158                        158                158   \n",
       "1    mean         None                       None  79.49367088607595   \n",
       "2  stddev         None                       None  45.75436310480852   \n",
       "3     min  Afghanistan  Australia and New Zealand                  1   \n",
       "4     max     Zimbabwe             Western Europe                158   \n",
       "\n",
       "      Happiness Score        Standard Error Economy (GDP per Capita)  \\\n",
       "0                 158                   158                      158   \n",
       "1  5.3757341772151905   0.04788474683544306       0.8461372151898726   \n",
       "2   1.145010134952066  0.017146178556969306       0.4031207785379107   \n",
       "3               2.839               0.01848                      0.0   \n",
       "4               7.587               0.13693                  1.69042   \n",
       "\n",
       "               Family Health (Life Expectancy)             Freedom  \\\n",
       "0                 158                      158                 158   \n",
       "1  0.9910459493670887       0.6302593670886079  0.4286149367088611   \n",
       "2  0.2723690860079153       0.2470777663021721   0.150692783937678   \n",
       "3                 0.0                      0.0                 0.0   \n",
       "4             1.40223                  1.02525             0.66973   \n",
       "\n",
       "  Trust (Government Corruption)           Generosity   Dystopia Residual  \n",
       "0                           158                  158                 158  \n",
       "1           0.14342183544303794  0.23729550632911403   2.098976772151899  \n",
       "2           0.12003407357455921  0.12668493402020534  0.5535497923037985  \n",
       "3                           0.0                  0.0             0.32858  \n",
       "4                       0.55191              0.79588             3.60214  "
      ]
     },
     "execution_count": 3,
     "metadata": {},
     "output_type": "execute_result"
    }
   ],
   "source": [
    "wh2015.describe().toPandas()"
   ]
  },
  {
   "cell_type": "code",
   "execution_count": 4,
   "metadata": {},
   "outputs": [
    {
     "data": {
      "text/html": [
       "<div>\n",
       "<style scoped>\n",
       "    .dataframe tbody tr th:only-of-type {\n",
       "        vertical-align: middle;\n",
       "    }\n",
       "\n",
       "    .dataframe tbody tr th {\n",
       "        vertical-align: top;\n",
       "    }\n",
       "\n",
       "    .dataframe thead th {\n",
       "        text-align: right;\n",
       "    }\n",
       "</style>\n",
       "<table border=\"1\" class=\"dataframe\">\n",
       "  <thead>\n",
       "    <tr style=\"text-align: right;\">\n",
       "      <th></th>\n",
       "      <th>summary</th>\n",
       "      <th>Country</th>\n",
       "      <th>Region</th>\n",
       "      <th>Happiness Rank</th>\n",
       "      <th>Happiness Score</th>\n",
       "      <th>Lower Confidence Interval</th>\n",
       "      <th>Upper Confidence Interval</th>\n",
       "      <th>Economy (GDP per Capita)</th>\n",
       "      <th>Family</th>\n",
       "      <th>Health (Life Expectancy)</th>\n",
       "      <th>Freedom</th>\n",
       "      <th>Trust (Government Corruption)</th>\n",
       "      <th>Generosity</th>\n",
       "      <th>Dystopia Residual</th>\n",
       "    </tr>\n",
       "  </thead>\n",
       "  <tbody>\n",
       "    <tr>\n",
       "      <th>0</th>\n",
       "      <td>count</td>\n",
       "      <td>157</td>\n",
       "      <td>157</td>\n",
       "      <td>157</td>\n",
       "      <td>157</td>\n",
       "      <td>157</td>\n",
       "      <td>157</td>\n",
       "      <td>157</td>\n",
       "      <td>157</td>\n",
       "      <td>157</td>\n",
       "      <td>157</td>\n",
       "      <td>157</td>\n",
       "      <td>157</td>\n",
       "      <td>157</td>\n",
       "    </tr>\n",
       "    <tr>\n",
       "      <th>1</th>\n",
       "      <td>mean</td>\n",
       "      <td>None</td>\n",
       "      <td>None</td>\n",
       "      <td>78.98089171974522</td>\n",
       "      <td>5.382184713375795</td>\n",
       "      <td>5.282394904458597</td>\n",
       "      <td>5.481974522292995</td>\n",
       "      <td>0.9538798089171973</td>\n",
       "      <td>0.7936210828025482</td>\n",
       "      <td>0.5576189808917195</td>\n",
       "      <td>0.3709938853503184</td>\n",
       "      <td>0.13762375796178344</td>\n",
       "      <td>0.24263490445859875</td>\n",
       "      <td>2.3258065605095544</td>\n",
       "    </tr>\n",
       "    <tr>\n",
       "      <th>2</th>\n",
       "      <td>stddev</td>\n",
       "      <td>None</td>\n",
       "      <td>None</td>\n",
       "      <td>45.46603005479287</td>\n",
       "      <td>1.14167351760057</td>\n",
       "      <td>1.1480426137782471</td>\n",
       "      <td>1.1364932228133053</td>\n",
       "      <td>0.4125954051030415</td>\n",
       "      <td>0.2667057461995736</td>\n",
       "      <td>0.22934919148785787</td>\n",
       "      <td>0.14550676744174393</td>\n",
       "      <td>0.11103790991815507</td>\n",
       "      <td>0.13375569129812107</td>\n",
       "      <td>0.5422199984864142</td>\n",
       "    </tr>\n",
       "    <tr>\n",
       "      <th>3</th>\n",
       "      <td>min</td>\n",
       "      <td>Afghanistan</td>\n",
       "      <td>Australia and New Zealand</td>\n",
       "      <td>1</td>\n",
       "      <td>2.905</td>\n",
       "      <td>2.732</td>\n",
       "      <td>3.078</td>\n",
       "      <td>0.0</td>\n",
       "      <td>0.0</td>\n",
       "      <td>0.0</td>\n",
       "      <td>0.0</td>\n",
       "      <td>0.0</td>\n",
       "      <td>0.0</td>\n",
       "      <td>0.81789</td>\n",
       "    </tr>\n",
       "    <tr>\n",
       "      <th>4</th>\n",
       "      <td>max</td>\n",
       "      <td>Zimbabwe</td>\n",
       "      <td>Western Europe</td>\n",
       "      <td>157</td>\n",
       "      <td>7.526</td>\n",
       "      <td>7.46</td>\n",
       "      <td>7.669</td>\n",
       "      <td>1.82427</td>\n",
       "      <td>1.18326</td>\n",
       "      <td>0.95277</td>\n",
       "      <td>0.60848</td>\n",
       "      <td>0.50521</td>\n",
       "      <td>0.81971</td>\n",
       "      <td>3.83772</td>\n",
       "    </tr>\n",
       "  </tbody>\n",
       "</table>\n",
       "</div>"
      ],
      "text/plain": [
       "  summary      Country                     Region     Happiness Rank  \\\n",
       "0   count          157                        157                157   \n",
       "1    mean         None                       None  78.98089171974522   \n",
       "2  stddev         None                       None  45.46603005479287   \n",
       "3     min  Afghanistan  Australia and New Zealand                  1   \n",
       "4     max     Zimbabwe             Western Europe                157   \n",
       "\n",
       "     Happiness Score Lower Confidence Interval Upper Confidence Interval  \\\n",
       "0                157                       157                       157   \n",
       "1  5.382184713375795         5.282394904458597         5.481974522292995   \n",
       "2   1.14167351760057        1.1480426137782471        1.1364932228133053   \n",
       "3              2.905                     2.732                     3.078   \n",
       "4              7.526                      7.46                     7.669   \n",
       "\n",
       "  Economy (GDP per Capita)              Family Health (Life Expectancy)  \\\n",
       "0                      157                 157                      157   \n",
       "1       0.9538798089171973  0.7936210828025482       0.5576189808917195   \n",
       "2       0.4125954051030415  0.2667057461995736      0.22934919148785787   \n",
       "3                      0.0                 0.0                      0.0   \n",
       "4                  1.82427             1.18326                  0.95277   \n",
       "\n",
       "               Freedom Trust (Government Corruption)           Generosity  \\\n",
       "0                  157                           157                  157   \n",
       "1   0.3709938853503184           0.13762375796178344  0.24263490445859875   \n",
       "2  0.14550676744174393           0.11103790991815507  0.13375569129812107   \n",
       "3                  0.0                           0.0                  0.0   \n",
       "4              0.60848                       0.50521              0.81971   \n",
       "\n",
       "    Dystopia Residual  \n",
       "0                 157  \n",
       "1  2.3258065605095544  \n",
       "2  0.5422199984864142  \n",
       "3             0.81789  \n",
       "4             3.83772  "
      ]
     },
     "execution_count": 4,
     "metadata": {},
     "output_type": "execute_result"
    }
   ],
   "source": [
    "wh2016.describe().toPandas()"
   ]
  },
  {
   "cell_type": "code",
   "execution_count": 5,
   "metadata": {},
   "outputs": [
    {
     "name": "stdout",
     "output_type": "stream",
     "text": [
      "+--------------+--------------+---------------+-------------------------+-------------------------+------------------------+-----------+------------------------+-----------+-----------+-----------------------------+-----------------+\n",
      "|       Country|Happiness Rank|Happiness Score|Lower Confidence Interval|Upper Confidence Interval|Economy (GDP per Capita)|     Family|Health (Life Expectancy)|    Freedom| Generosity|Trust (Government Corruption)|Dystopia Residual|\n",
      "+--------------+--------------+---------------+-------------------------+-------------------------+------------------------+-----------+------------------------+-----------+-----------+-----------------------------+-----------------+\n",
      "|        Norway|             1|    7.537000179|              7.594444821|              7.479555538|             1.616463184| 1.53352356|             0.796666503|0.635422587|0.362012237|                  0.315963835|      2.277026653|\n",
      "|       Denmark|             2|    7.521999836|              7.581728065|              7.462271607|             1.482383013|1.551121593|             0.792565525|0.626006722|0.355280489|                  0.400770068|      2.313707352|\n",
      "|       Iceland|             3|    7.504000187|              7.622030473|              7.385969901|              1.48063302|1.610574007|             0.833552122|0.627162635|0.475540221|                  0.153526559|      2.322715282|\n",
      "|   Switzerland|             4|    7.493999958|               7.56177242|              7.426227496|             1.564979553|1.516911745|             0.858131289|0.620070577|0.290549278|                  0.367007285|      2.276716232|\n",
      "|       Finland|             5|    7.468999863|              7.527542076|               7.41045765|             1.443571925|1.540246725|              0.80915767|0.617950857|0.245482773|                  0.382611543|      2.430181503|\n",
      "|   Netherlands|             6|    7.376999855|              7.427425841|              7.326573869|             1.503944635|1.428939223|             0.810696125|0.585384488| 0.47048983|                  0.282661825|      2.294804096|\n",
      "|        Canada|             7|    7.315999985|              7.384402835|              7.247597134|             1.479204416|1.481348991|             0.834557652|0.611100912|0.435539722|                  0.287371516|      2.187264442|\n",
      "|   New Zealand|             8|     7.31400013|              7.379510442|              7.248489818|             1.405706048|1.548195124|             0.816759706| 0.61406213|0.500005126|                  0.382816702|      2.046456337|\n",
      "|        Sweden|             9|     7.28399992|              7.344094877|              7.223904962|             1.494387269|1.478162169|             0.830875158|0.612924099|0.385399252|                  0.384398729|      2.097537994|\n",
      "|     Australia|            10|     7.28399992|              7.356651225|              7.211348615|             1.484414935|1.510041952|             0.843886793|0.601607382| 0.47769925|                   0.30118373|      2.065210819|\n",
      "|        Israel|            11|    7.212999821|              7.279853256|              7.146146385|             1.375382423|1.376289964|                0.838404|0.405988604|0.330082655|                    0.0852421|      2.801757336|\n",
      "|    Costa Rica|            12|    7.078999996|              7.168111666|              6.989888326|             1.109706283|1.416403651|             0.759509265| 0.58013165|0.214613229|                  0.100106589|      2.898639202|\n",
      "|       Austria|            13|    7.006000042|              7.070669812|              6.941330272|             1.487097263|1.459944963|             0.815328419| 0.56776619|0.316472322|                  0.221060365|      2.138506413|\n",
      "| United States|            14|    6.993000031|              7.074656748|              6.911343313|             1.546259284|1.419920564|             0.774286628|0.505740523|0.392578781|                  0.135638788|      2.218113422|\n",
      "|       Ireland|            15|    6.977000237|              7.043351668|              6.910648805|             1.535706639|1.558231115|             0.809782624|0.573110342|0.427858323|                  0.298388153|      1.773869038|\n",
      "|       Germany|            16|    6.951000214|              7.005381569|              6.896618858|             1.487923384|1.472520351|             0.798950732|0.562511384| 0.33626917|                  0.276731938|      2.015769958|\n",
      "|       Belgium|            17|    6.890999794|               6.95582075|              6.826178838|             1.463780761|1.462312698|             0.818091869|0.539770722|0.231503338|                  0.251343131|      2.124210358|\n",
      "|    Luxembourg|            18|    6.862999916|                6.9236861|              6.802313732|             1.741943598|1.457583666|             0.845089495|0.596627891|0.283180982|                  0.318834424|      1.619512081|\n",
      "|United Kingdom|            19|    6.714000225|              6.783791761|              6.644208689|              1.44163394| 1.49646008|             0.805335939|0.508190036|0.492774159|                  0.265428066|      1.704143524|\n",
      "|         Chile|            20|     6.65199995|               6.73925056|              6.564749341|              1.25278461|1.284024954|             0.819479704|0.376895279|0.326662421|                  0.082287982|      2.509585857|\n",
      "+--------------+--------------+---------------+-------------------------+-------------------------+------------------------+-----------+------------------------+-----------+-----------+-----------------------------+-----------------+\n",
      "only showing top 20 rows\n",
      "\n"
     ]
    }
   ],
   "source": [
    "wh2017.show()"
   ]
  },
  {
   "cell_type": "code",
   "execution_count": 6,
   "metadata": {},
   "outputs": [
    {
     "name": "stdout",
     "output_type": "stream",
     "text": [
      "root\n",
      " |-- Country: string (nullable = true)\n",
      " |-- Region: string (nullable = true)\n",
      " |-- Happiness Rank: integer (nullable = true)\n",
      " |-- Happiness Score: double (nullable = true)\n",
      " |-- Lower Confidence Interval: double (nullable = true)\n",
      " |-- Upper Confidence Interval: double (nullable = true)\n",
      " |-- Economy (GDP per Capita): double (nullable = true)\n",
      " |-- Family: double (nullable = true)\n",
      " |-- Health (Life Expectancy): double (nullable = true)\n",
      " |-- Freedom: double (nullable = true)\n",
      " |-- Trust (Government Corruption): double (nullable = true)\n",
      " |-- Generosity: double (nullable = true)\n",
      " |-- Dystopia Residual: double (nullable = true)\n",
      "\n"
     ]
    }
   ],
   "source": [
    "wh2016.printSchema()"
   ]
  },
  {
   "cell_type": "markdown",
   "metadata": {},
   "source": [
    "### Index the feature region using numeric values"
   ]
  },
  {
   "cell_type": "code",
   "execution_count": 7,
   "metadata": {},
   "outputs": [],
   "source": [
    "indexer = StringIndexer(inputCol='Region', outputCol='region_index')\n",
    "indexed_wh2015 = indexer.fit(wh2015).transform(wh2015)"
   ]
  },
  {
   "cell_type": "code",
   "execution_count": 8,
   "metadata": {},
   "outputs": [],
   "source": [
    "indexer = StringIndexer(inputCol='Region', outputCol='region_index')\n",
    "indexed_wh2016 = indexer.fit(wh2016).transform(wh2016)"
   ]
  },
  {
   "cell_type": "code",
   "execution_count": 9,
   "metadata": {},
   "outputs": [],
   "source": [
    "tmp = wh2016.select('Region', 'Country')\n",
    "tmp = tmp.withColumnRenamed('Country', 'tmp_name')"
   ]
  },
  {
   "cell_type": "code",
   "execution_count": 10,
   "metadata": {},
   "outputs": [],
   "source": [
    "wh2017 = wh2017.join(tmp, tmp['tmp_name'] == wh2017['Country'])"
   ]
  },
  {
   "cell_type": "code",
   "execution_count": 11,
   "metadata": {},
   "outputs": [],
   "source": [
    "indexer = StringIndexer(inputCol='Region', outputCol='region_index')\n",
    "indexed_wh2017 = indexer.fit(wh2017).transform(wh2017)"
   ]
  },
  {
   "cell_type": "code",
   "execution_count": 12,
   "metadata": {},
   "outputs": [
    {
     "name": "stdout",
     "output_type": "stream",
     "text": [
      "+--------------+--------------+---------------+-------------------------+-------------------------+------------------------+-----------+------------------------+-----------+-----------+-----------------------------+-----------------+--------------------+--------------+------------+\n",
      "|       Country|Happiness Rank|Happiness Score|Lower Confidence Interval|Upper Confidence Interval|Economy (GDP per Capita)|     Family|Health (Life Expectancy)|    Freedom| Generosity|Trust (Government Corruption)|Dystopia Residual|              Region|      tmp_name|region_index|\n",
      "+--------------+--------------+---------------+-------------------------+-------------------------+------------------------+-----------+------------------------+-----------+-----------+-----------------------------+-----------------+--------------------+--------------+------------+\n",
      "|        Norway|             1|    7.537000179|              7.594444821|              7.479555538|             1.616463184| 1.53352356|             0.796666503|0.635422587|0.362012237|                  0.315963835|      2.277026653|      Western Europe|        Norway|         3.0|\n",
      "|       Denmark|             2|    7.521999836|              7.581728065|              7.462271607|             1.482383013|1.551121593|             0.792565525|0.626006722|0.355280489|                  0.400770068|      2.313707352|      Western Europe|       Denmark|         3.0|\n",
      "|       Iceland|             3|    7.504000187|              7.622030473|              7.385969901|              1.48063302|1.610574007|             0.833552122|0.627162635|0.475540221|                  0.153526559|      2.322715282|      Western Europe|       Iceland|         3.0|\n",
      "|   Switzerland|             4|    7.493999958|               7.56177242|              7.426227496|             1.564979553|1.516911745|             0.858131289|0.620070577|0.290549278|                  0.367007285|      2.276716232|      Western Europe|   Switzerland|         3.0|\n",
      "|       Finland|             5|    7.468999863|              7.527542076|               7.41045765|             1.443571925|1.540246725|              0.80915767|0.617950857|0.245482773|                  0.382611543|      2.430181503|      Western Europe|       Finland|         3.0|\n",
      "|   Netherlands|             6|    7.376999855|              7.427425841|              7.326573869|             1.503944635|1.428939223|             0.810696125|0.585384488| 0.47048983|                  0.282661825|      2.294804096|      Western Europe|   Netherlands|         3.0|\n",
      "|        Canada|             7|    7.315999985|              7.384402835|              7.247597134|             1.479204416|1.481348991|             0.834557652|0.611100912|0.435539722|                  0.287371516|      2.187264442|       North America|        Canada|         8.0|\n",
      "|   New Zealand|             8|     7.31400013|              7.379510442|              7.248489818|             1.405706048|1.548195124|             0.816759706| 0.61406213|0.500005126|                  0.382816702|      2.046456337|Australia and New...|   New Zealand|         9.0|\n",
      "|        Sweden|             9|     7.28399992|              7.344094877|              7.223904962|             1.494387269|1.478162169|             0.830875158|0.612924099|0.385399252|                  0.384398729|      2.097537994|      Western Europe|        Sweden|         3.0|\n",
      "|     Australia|            10|     7.28399992|              7.356651225|              7.211348615|             1.484414935|1.510041952|             0.843886793|0.601607382| 0.47769925|                   0.30118373|      2.065210819|Australia and New...|     Australia|         9.0|\n",
      "|        Israel|            11|    7.212999821|              7.279853256|              7.146146385|             1.375382423|1.376289964|                0.838404|0.405988604|0.330082655|                    0.0852421|      2.801757336|Middle East and N...|        Israel|         4.0|\n",
      "|    Costa Rica|            12|    7.078999996|              7.168111666|              6.989888326|             1.109706283|1.416403651|             0.759509265| 0.58013165|0.214613229|                  0.100106589|      2.898639202|Latin America and...|    Costa Rica|         2.0|\n",
      "|       Austria|            13|    7.006000042|              7.070669812|              6.941330272|             1.487097263|1.459944963|             0.815328419| 0.56776619|0.316472322|                  0.221060365|      2.138506413|      Western Europe|       Austria|         3.0|\n",
      "| United States|            14|    6.993000031|              7.074656748|              6.911343313|             1.546259284|1.419920564|             0.774286628|0.505740523|0.392578781|                  0.135638788|      2.218113422|       North America| United States|         8.0|\n",
      "|       Ireland|            15|    6.977000237|              7.043351668|              6.910648805|             1.535706639|1.558231115|             0.809782624|0.573110342|0.427858323|                  0.298388153|      1.773869038|      Western Europe|       Ireland|         3.0|\n",
      "|       Germany|            16|    6.951000214|              7.005381569|              6.896618858|             1.487923384|1.472520351|             0.798950732|0.562511384| 0.33626917|                  0.276731938|      2.015769958|      Western Europe|       Germany|         3.0|\n",
      "|       Belgium|            17|    6.890999794|               6.95582075|              6.826178838|             1.463780761|1.462312698|             0.818091869|0.539770722|0.231503338|                  0.251343131|      2.124210358|      Western Europe|       Belgium|         3.0|\n",
      "|    Luxembourg|            18|    6.862999916|                6.9236861|              6.802313732|             1.741943598|1.457583666|             0.845089495|0.596627891|0.283180982|                  0.318834424|      1.619512081|      Western Europe|    Luxembourg|         3.0|\n",
      "|United Kingdom|            19|    6.714000225|              6.783791761|              6.644208689|              1.44163394| 1.49646008|             0.805335939|0.508190036|0.492774159|                  0.265428066|      1.704143524|      Western Europe|United Kingdom|         3.0|\n",
      "|         Chile|            20|     6.65199995|               6.73925056|              6.564749341|              1.25278461|1.284024954|             0.819479704|0.376895279|0.326662421|                  0.082287982|      2.509585857|Latin America and...|         Chile|         2.0|\n",
      "+--------------+--------------+---------------+-------------------------+-------------------------+------------------------+-----------+------------------------+-----------+-----------+-----------------------------+-----------------+--------------------+--------------+------------+\n",
      "only showing top 20 rows\n",
      "\n"
     ]
    }
   ],
   "source": [
    "\n",
    "indexed_wh2017.show()"
   ]
  },
  {
   "cell_type": "markdown",
   "metadata": {},
   "source": [
    "### Inspect the new schema of dataframe"
   ]
  },
  {
   "cell_type": "code",
   "execution_count": 13,
   "metadata": {
    "scrolled": true
   },
   "outputs": [
    {
     "name": "stdout",
     "output_type": "stream",
     "text": [
      "root\n",
      " |-- Country: string (nullable = true)\n",
      " |-- Region: string (nullable = true)\n",
      " |-- Happiness Rank: integer (nullable = true)\n",
      " |-- Happiness Score: double (nullable = true)\n",
      " |-- Standard Error: double (nullable = true)\n",
      " |-- Economy (GDP per Capita): double (nullable = true)\n",
      " |-- Family: double (nullable = true)\n",
      " |-- Health (Life Expectancy): double (nullable = true)\n",
      " |-- Freedom: double (nullable = true)\n",
      " |-- Trust (Government Corruption): double (nullable = true)\n",
      " |-- Generosity: double (nullable = true)\n",
      " |-- Dystopia Residual: double (nullable = true)\n",
      " |-- region_index: double (nullable = true)\n",
      "\n"
     ]
    }
   ],
   "source": [
    "indexed_wh2015.printSchema()"
   ]
  },
  {
   "cell_type": "markdown",
   "metadata": {},
   "source": [
    "### Using corr function, checking how various features co relate with the Happiness Rank"
   ]
  },
  {
   "cell_type": "code",
   "execution_count": 14,
   "metadata": {},
   "outputs": [
    {
     "name": "stdout",
     "output_type": "stream",
     "text": [
      "+----------------------------------------------+\n",
      "|corr(Happiness Rank, Economy (GDP per Capita))|\n",
      "+----------------------------------------------+\n",
      "|                           -0.7852669153290183|\n",
      "+----------------------------------------------+\n",
      "\n"
     ]
    }
   ],
   "source": [
    "indexed_wh2015.select(corr('Happiness Rank', 'Economy (GDP per Capita)')).show()"
   ]
  },
  {
   "cell_type": "code",
   "execution_count": 15,
   "metadata": {},
   "outputs": [
    {
     "name": "stdout",
     "output_type": "stream",
     "text": [
      "+----------------------------------------------+\n",
      "|corr(Happiness Rank, Health (Life Expectancy))|\n",
      "+----------------------------------------------+\n",
      "|                           -0.7356129584428032|\n",
      "+----------------------------------------------+\n",
      "\n"
     ]
    }
   ],
   "source": [
    "indexed_wh2015.select(corr('Happiness Rank', 'Health (Life Expectancy)')).show()"
   ]
  },
  {
   "cell_type": "markdown",
   "metadata": {},
   "source": [
    "### Assemble vector using selective features using VectorAssembler"
   ]
  },
  {
   "cell_type": "code",
   "execution_count": 16,
   "metadata": {},
   "outputs": [],
   "source": [
    "# assembler = VectorAssembler(inputCols=['Happiness Score',\n",
    "#                                         'Standard Error',\n",
    "#                                         'Economy (GDP per Capita)',\n",
    "#                                         'Family',\n",
    "#                                         'Health (Life Expectancy)',\n",
    "#                                         'Freedom',\n",
    "#                                         'Trust (Government Corruption)',\n",
    "#                                         'Generosity',\n",
    "#                                         'Dystopia Residual',\n",
    "#                                         'region_index'\n",
    "#                                         ], outputCol='features')"
   ]
  },
  {
   "cell_type": "code",
   "execution_count": 17,
   "metadata": {},
   "outputs": [],
   "source": [
    "assembler = VectorAssembler(inputCols=['Happiness Score', 'Health (Life Expectancy)', 'Freedom', 'Trust (Government Corruption)', 'region_index'], outputCol='features')"
   ]
  },
  {
   "cell_type": "markdown",
   "metadata": {},
   "source": [
    "### Transform the dataframes using the assembler in order to add vector to the dataframe"
   ]
  },
  {
   "cell_type": "code",
   "execution_count": 18,
   "metadata": {},
   "outputs": [],
   "source": [
    "data2015 = assembler.transform(indexed_wh2015)\n",
    "data2016 = assembler.transform(indexed_wh2016)"
   ]
  },
  {
   "cell_type": "code",
   "execution_count": 19,
   "metadata": {
    "scrolled": true
   },
   "outputs": [
    {
     "data": {
      "text/plain": [
       "DataFrame[Country: string, Happiness Rank: int, Happiness Score: double, Lower Confidence Interval: double, Upper Confidence Interval: double, Economy (GDP per Capita): double, Family: double, Health (Life Expectancy): double, Freedom: double, Generosity: double, Trust (Government Corruption): double, Dystopia Residual: double, Region: string, tmp_name: string, region_index: double]"
      ]
     },
     "execution_count": 19,
     "metadata": {},
     "output_type": "execute_result"
    }
   ],
   "source": [
    "indexed_wh2017"
   ]
  },
  {
   "cell_type": "markdown",
   "metadata": {},
   "source": []
  },
  {
   "cell_type": "code",
   "execution_count": 20,
   "metadata": {},
   "outputs": [],
   "source": [
    "data2017 = assembler.transform(indexed_wh2017)"
   ]
  },
  {
   "cell_type": "markdown",
   "metadata": {},
   "source": [
    "### Inspect prepared dataframes, check the features vector and happiness rank"
   ]
  },
  {
   "cell_type": "code",
   "execution_count": 21,
   "metadata": {},
   "outputs": [
    {
     "name": "stdout",
     "output_type": "stream",
     "text": [
      "+--------------------+--------------+\n",
      "|            features|Happiness Rank|\n",
      "+--------------------+--------------+\n",
      "|[7.587,0.94143,0....|             1|\n",
      "|[7.561,0.94784,0....|             2|\n",
      "|[7.527,0.87464,0....|             3|\n",
      "|[7.522,0.88521,0....|             4|\n",
      "|[7.427,0.90563,0....|             5|\n",
      "|[7.406,0.88911,0....|             6|\n",
      "|[7.378,0.89284,0....|             7|\n",
      "|[7.364,0.91087,0....|             8|\n",
      "|[7.286,0.90837,0....|             9|\n",
      "|[7.284,0.93156,0....|            10|\n",
      "|[7.278,0.91387,0....|            11|\n",
      "|[7.226,0.86027,0....|            12|\n",
      "|[7.2,0.89042,0.62...|            13|\n",
      "|[7.187,0.81444,0....|            14|\n",
      "|[7.119,0.86179,0....|            15|\n",
      "|[6.983,0.69702,0....|            16|\n",
      "|[6.946,0.91894,0....|            17|\n",
      "|[6.94,0.89533,0.6...|            18|\n",
      "|[6.937,0.89667,0....|            19|\n",
      "|[6.901,0.80925,0....|            20|\n",
      "+--------------------+--------------+\n",
      "only showing top 20 rows\n",
      "\n"
     ]
    }
   ],
   "source": [
    "data2015.select('features', 'Happiness Rank').show()"
   ]
  },
  {
   "cell_type": "markdown",
   "metadata": {},
   "source": [
    "### Define regression model for predicting happiness rank value"
   ]
  },
  {
   "cell_type": "code",
   "execution_count": 22,
   "metadata": {},
   "outputs": [],
   "source": [
    "hr_lr = LinearRegression(labelCol='Happiness Rank')"
   ]
  },
  {
   "cell_type": "code",
   "execution_count": 23,
   "metadata": {},
   "outputs": [],
   "source": [
    "#hr_lr.setRegParam(0)"
   ]
  },
  {
   "cell_type": "code",
   "execution_count": 24,
   "metadata": {},
   "outputs": [],
   "source": [
    "#hr_lr.setElasticNetParam(0)"
   ]
  },
  {
   "cell_type": "code",
   "execution_count": 25,
   "metadata": {},
   "outputs": [],
   "source": [
    "#train_leftLR, test_leftLR = data2015.randomSplit([0.7,0.3])"
   ]
  },
  {
   "cell_type": "code",
   "execution_count": 26,
   "metadata": {},
   "outputs": [],
   "source": [
    "#trained_hr_lr1 = hr_lr.fit(train_leftLR)"
   ]
  },
  {
   "cell_type": "code",
   "execution_count": 27,
   "metadata": {},
   "outputs": [],
   "source": [
    "#hr_results2016 = trained_hr_lr1.evaluate(test_leftLR)"
   ]
  },
  {
   "cell_type": "code",
   "execution_count": 28,
   "metadata": {},
   "outputs": [],
   "source": [
    "#hr_results2016.rootMeanSquaredError"
   ]
  },
  {
   "cell_type": "markdown",
   "metadata": {},
   "source": [
    "### Train the regression model using 2015 data."
   ]
  },
  {
   "cell_type": "code",
   "execution_count": 29,
   "metadata": {},
   "outputs": [],
   "source": [
    "trained_hr_lr = hr_lr.fit(data2015)"
   ]
  },
  {
   "cell_type": "markdown",
   "metadata": {},
   "source": [
    "### Evaluate the trained model using 2016 data"
   ]
  },
  {
   "cell_type": "code",
   "execution_count": 30,
   "metadata": {},
   "outputs": [],
   "source": [
    "hr_results2016 = trained_hr_lr.evaluate(data2016)"
   ]
  },
  {
   "cell_type": "markdown",
   "metadata": {},
   "source": [
    "#### View happiness ranks and predictions"
   ]
  },
  {
   "cell_type": "code",
   "execution_count": 31,
   "metadata": {},
   "outputs": [
    {
     "name": "stdout",
     "output_type": "stream",
     "text": [
      "+-------------+--------------+------------------+\n",
      "|      Country|Happiness Rank|        prediction|\n",
      "+-------------+--------------+------------------+\n",
      "|      Denmark|             1|-2.937331602521567|\n",
      "|  Switzerland|             2|-3.038040887740351|\n",
      "|      Iceland|             3|-4.901830875183975|\n",
      "|       Norway|             4|-2.576715683418513|\n",
      "|      Finland|             5|1.0693075559815952|\n",
      "|       Canada|             6|1.3321266199043293|\n",
      "|  Netherlands|             7| 3.041653312918811|\n",
      "|  New Zealand|             8|  5.06383471991353|\n",
      "|    Australia|             9| 4.956420951692053|\n",
      "|       Sweden|            10|  5.65417616860293|\n",
      "|       Israel|            11| 4.121660270595896|\n",
      "|      Austria|            12|10.955426111376028|\n",
      "|United States|            13|12.069133527134227|\n",
      "|   Costa Rica|            14|11.461014016236277|\n",
      "|  Puerto Rico|            15|13.409189519983215|\n",
      "|      Germany|            16|16.353518129963277|\n",
      "|       Brazil|            17|18.174154863733918|\n",
      "|      Belgium|            18| 18.67428683122347|\n",
      "|      Ireland|            19|19.838564020858087|\n",
      "|   Luxembourg|            20|21.469953578263812|\n",
      "+-------------+--------------+------------------+\n",
      "only showing top 20 rows\n",
      "\n"
     ]
    }
   ],
   "source": [
    "hr_results2016.predictions.select('Country', 'Happiness Rank', 'prediction').show()"
   ]
  },
  {
   "cell_type": "markdown",
   "metadata": {},
   "source": [
    "### Get the root mean squared error from the evaluator"
   ]
  },
  {
   "cell_type": "code",
   "execution_count": 32,
   "metadata": {},
   "outputs": [
    {
     "data": {
      "text/plain": [
       "4.23530474976203"
      ]
     },
     "execution_count": 32,
     "metadata": {},
     "output_type": "execute_result"
    }
   ],
   "source": [
    "hr_results2016.rootMeanSquaredError"
   ]
  },
  {
   "cell_type": "markdown",
   "metadata": {},
   "source": [
    "### Evaluate the trained model using 2016 data"
   ]
  },
  {
   "cell_type": "code",
   "execution_count": 33,
   "metadata": {},
   "outputs": [],
   "source": [
    "hr_results2017 = trained_hr_lr.evaluate(data2017)"
   ]
  },
  {
   "cell_type": "markdown",
   "metadata": {},
   "source": [
    "#### View happiness ranks and predictions"
   ]
  },
  {
   "cell_type": "code",
   "execution_count": 34,
   "metadata": {},
   "outputs": [
    {
     "name": "stdout",
     "output_type": "stream",
     "text": [
      "+--------------+--------------+-------------------+\n",
      "|       Country|Happiness Rank|         prediction|\n",
      "+--------------+--------------+-------------------+\n",
      "|        Norway|             1| -4.470325333664277|\n",
      "|       Denmark|             2|-3.1533260203965483|\n",
      "|       Iceland|             3|-4.7824267038423045|\n",
      "|   Switzerland|             4|-2.8108836558611188|\n",
      "|       Finland|             5|-1.3538852413406062|\n",
      "|   Netherlands|             6|  1.415971062999347|\n",
      "|        Canada|             7|  4.471017343415554|\n",
      "|   New Zealand|             8|  5.626460716321503|\n",
      "|        Sweden|             9|  5.709901842052659|\n",
      "|     Australia|            10|  5.935182363821355|\n",
      "|        Israel|            11|  6.258518669936166|\n",
      "|    Costa Rica|            12| 11.724648786625778|\n",
      "|       Austria|            13| 15.331882094559603|\n",
      "| United States|            14|  16.30225405349495|\n",
      "|       Ireland|            15|  17.13344962522052|\n",
      "|       Germany|            16| 18.052752075855892|\n",
      "|       Belgium|            17| 20.056272904186528|\n",
      "|    Luxembourg|            18|  21.46984866855763|\n",
      "|United Kingdom|            19| 27.175848200407245|\n",
      "|         Chile|            20|  27.89967618873169|\n",
      "+--------------+--------------+-------------------+\n",
      "only showing top 20 rows\n",
      "\n"
     ]
    }
   ],
   "source": [
    "hr_results2017.predictions.select('Country', 'Happiness Rank', 'prediction').show()"
   ]
  },
  {
   "cell_type": "markdown",
   "metadata": {},
   "source": [
    "### Get the root mean squared error from the evaluator"
   ]
  },
  {
   "cell_type": "code",
   "execution_count": 35,
   "metadata": {},
   "outputs": [
    {
     "data": {
      "text/plain": [
       "5.43960405681417"
      ]
     },
     "execution_count": 35,
     "metadata": {},
     "output_type": "execute_result"
    }
   ],
   "source": [
    "hr_results2017.rootMeanSquaredError"
   ]
  },
  {
   "cell_type": "markdown",
   "metadata": {},
   "source": [
    "## Gradient-boosted tree regression"
   ]
  },
  {
   "cell_type": "markdown",
   "metadata": {},
   "source": [
    "### Import required classes for evaluators, indexers for gradient boosted tree regression"
   ]
  },
  {
   "cell_type": "code",
   "execution_count": 36,
   "metadata": {},
   "outputs": [],
   "source": [
    "from pyspark.ml.regression import GBTRegressor\n",
    "from pyspark.ml import Pipeline\n",
    "from pyspark.ml.feature import VectorIndexer\n",
    "from pyspark.ml.evaluation import RegressionEvaluator"
   ]
  },
  {
   "cell_type": "markdown",
   "metadata": {},
   "source": [
    "### Assemble the index using feature vector in order to automatically identify categorical features, and index them.\n",
    "### Set maxCategories so features with > 4 distinct values are treated as continuous."
   ]
  },
  {
   "cell_type": "code",
   "execution_count": 37,
   "metadata": {},
   "outputs": [],
   "source": [
    "featureIndexer = VectorIndexer(inputCol=\"features\", outputCol=\"indexedFeatures\", maxCategories=5).fit(data2015)"
   ]
  },
  {
   "cell_type": "markdown",
   "metadata": {},
   "source": [
    "### Transform the dataframes for each year and collect new dataframes"
   ]
  },
  {
   "cell_type": "code",
   "execution_count": 38,
   "metadata": {},
   "outputs": [],
   "source": [
    "data2015wfi = featureIndexer.transform(data2015)\n",
    "data2016wfi = featureIndexer.transform(data2016)\n",
    "data2017wfi = featureIndexer.transform(data2017)"
   ]
  },
  {
   "cell_type": "markdown",
   "metadata": {},
   "source": [
    "### Define gradient bossted tree regression model for happiness rank prediction"
   ]
  },
  {
   "cell_type": "code",
   "execution_count": 39,
   "metadata": {},
   "outputs": [],
   "source": [
    "gbt = GBTRegressor(labelCol=\"Happiness Rank\",featuresCol=\"indexedFeatures\")"
   ]
  },
  {
   "cell_type": "markdown",
   "metadata": {},
   "source": [
    "### Fit the training data in model for training"
   ]
  },
  {
   "cell_type": "code",
   "execution_count": 40,
   "metadata": {},
   "outputs": [],
   "source": [
    "model = gbt.fit(data2015wfi)"
   ]
  },
  {
   "cell_type": "markdown",
   "metadata": {},
   "source": [
    "### Test the model using 2016 data"
   ]
  },
  {
   "cell_type": "code",
   "execution_count": 41,
   "metadata": {},
   "outputs": [],
   "source": [
    "gbtPreds16 = model.transform(data2016wfi)"
   ]
  },
  {
   "cell_type": "markdown",
   "metadata": {},
   "source": [
    "### Evaluate the result using regression evaluator, compare the rank with the predicted values and collect root mean square error"
   ]
  },
  {
   "cell_type": "code",
   "execution_count": 42,
   "metadata": {},
   "outputs": [],
   "source": [
    "evaluator = RegressionEvaluator(labelCol=\"Happiness Rank\", predictionCol=\"prediction\", metricName=\"rmse\")"
   ]
  },
  {
   "cell_type": "markdown",
   "metadata": {},
   "source": [
    "### Collect the RMSE value from evaluator"
   ]
  },
  {
   "cell_type": "code",
   "execution_count": 43,
   "metadata": {},
   "outputs": [],
   "source": [
    "rmse16 = evaluator.evaluate(gbtPreds16)"
   ]
  },
  {
   "cell_type": "code",
   "execution_count": 44,
   "metadata": {},
   "outputs": [
    {
     "name": "stdout",
     "output_type": "stream",
     "text": [
      "+-------------+--------------+------------------+\n",
      "|      Country|Happiness Rank|        prediction|\n",
      "+-------------+--------------+------------------+\n",
      "|      Denmark|             1|  3.66781951245897|\n",
      "|  Switzerland|             2| 2.101162957078867|\n",
      "|      Iceland|             3|3.3104469522954463|\n",
      "|       Norway|             4| 2.679695796692385|\n",
      "|      Finland|             5|  3.37509178095679|\n",
      "|       Canada|             6| 9.971964045710617|\n",
      "|  Netherlands|             7| 9.038330535673722|\n",
      "|  New Zealand|             8|  9.43026303694145|\n",
      "|    Australia|             9| 9.950523552699197|\n",
      "|       Sweden|            10|  8.59213951151116|\n",
      "|       Israel|            11|13.117446460530703|\n",
      "|      Austria|            12|13.701802214401763|\n",
      "|United States|            13|14.520500989081933|\n",
      "|   Costa Rica|            14|12.700755430351565|\n",
      "|  Puerto Rico|            15|13.044459245723415|\n",
      "|      Germany|            16|13.755897652535502|\n",
      "|       Brazil|            17|17.368277378097247|\n",
      "|      Belgium|            18|18.755897652535488|\n",
      "|      Ireland|            19| 19.03833053567371|\n",
      "|   Luxembourg|            20|18.524211216672608|\n",
      "+-------------+--------------+------------------+\n",
      "only showing top 20 rows\n",
      "\n"
     ]
    }
   ],
   "source": [
    "gbtPreds16.select('Country','Happiness Rank', 'prediction').show()"
   ]
  },
  {
   "cell_type": "markdown",
   "metadata": {},
   "source": [
    "### Print the RMSE"
   ]
  },
  {
   "cell_type": "code",
   "execution_count": 45,
   "metadata": {},
   "outputs": [
    {
     "data": {
      "text/plain": [
       "3.883400779923485"
      ]
     },
     "execution_count": 45,
     "metadata": {},
     "output_type": "execute_result"
    }
   ],
   "source": [
    "rmse16"
   ]
  },
  {
   "cell_type": "code",
   "execution_count": 46,
   "metadata": {},
   "outputs": [],
   "source": [
    "gbtPreds17 = model.transform(data2017wfi)"
   ]
  },
  {
   "cell_type": "code",
   "execution_count": 47,
   "metadata": {},
   "outputs": [
    {
     "name": "stdout",
     "output_type": "stream",
     "text": [
      "+--------------+--------------+------------------+\n",
      "|       Country|Happiness Rank|        prediction|\n",
      "+--------------+--------------+------------------+\n",
      "|        Norway|             1| 2.679695796692385|\n",
      "|       Denmark|             2|2.4649825976755495|\n",
      "|       Iceland|             3|2.9293360166597635|\n",
      "|   Switzerland|             4|2.5246423971219345|\n",
      "|       Finland|             5| 2.679695796692385|\n",
      "|   Netherlands|             6| 7.716001837078553|\n",
      "|        Canada|             7| 9.742269479863953|\n",
      "|   New Zealand|             8|  9.71920171235674|\n",
      "|        Sweden|             9| 7.350069945512941|\n",
      "|     Australia|            10| 9.720828986852533|\n",
      "|        Israel|            11|13.810484551359421|\n",
      "|    Costa Rica|            12|13.499734815130244|\n",
      "|       Austria|            13|14.038330535673722|\n",
      "| United States|            14|14.819924026571424|\n",
      "|       Ireland|            15| 18.70180221440175|\n",
      "|       Germany|            16| 18.70180221440175|\n",
      "|       Belgium|            17| 19.03833053567371|\n",
      "|    Luxembourg|            18|21.742847131515536|\n",
      "|United Kingdom|            19| 28.84807052296091|\n",
      "|         Chile|            20|29.003879581533912|\n",
      "+--------------+--------------+------------------+\n",
      "only showing top 20 rows\n",
      "\n"
     ]
    }
   ],
   "source": [
    "gbtPreds17.select('Country','Happiness Rank', 'prediction').show()"
   ]
  },
  {
   "cell_type": "code",
   "execution_count": 48,
   "metadata": {},
   "outputs": [],
   "source": [
    "rmse17 = evaluator.evaluate(gbtPreds17)"
   ]
  },
  {
   "cell_type": "code",
   "execution_count": 49,
   "metadata": {},
   "outputs": [
    {
     "data": {
      "text/plain": [
       "4.472366693469931"
      ]
     },
     "execution_count": 49,
     "metadata": {},
     "output_type": "execute_result"
    }
   ],
   "source": [
    "rmse17"
   ]
  },
  {
   "cell_type": "markdown",
   "metadata": {
    "collapsed": true
   },
   "source": [
    "## From 2015 to 2017, which country’s happiness ranking increased the most?"
   ]
  },
  {
   "cell_type": "markdown",
   "metadata": {},
   "source": [
    "### Select countries and happiness rank from 2015 dataframe and then rename selected columns in order to avoid ambigious column names later on"
   ]
  },
  {
   "cell_type": "code",
   "execution_count": 50,
   "metadata": {},
   "outputs": [],
   "source": [
    "new2015 = wh2015.select('Country','Happiness Rank')\n",
    "new2015 = new2015.withColumnRenamed(existing='Happiness Rank', new='HR15')\n",
    "new2015 = new2015.withColumnRenamed(existing='Country', new='C15')"
   ]
  },
  {
   "cell_type": "markdown",
   "metadata": {},
   "source": [
    "### Perform a join on 2015 and 2017 based on equality and using a predicate where country names from both dataframes should match"
   ]
  },
  {
   "cell_type": "code",
   "execution_count": 51,
   "metadata": {},
   "outputs": [],
   "source": [
    "happyDF = wh2017.join(new2015, new2015['C15'] == wh2017['Country'])"
   ]
  },
  {
   "cell_type": "code",
   "execution_count": 52,
   "metadata": {},
   "outputs": [
    {
     "data": {
      "text/plain": [
       "['Country',\n",
       " 'Happiness Rank',\n",
       " 'Happiness Score',\n",
       " 'Lower Confidence Interval',\n",
       " 'Upper Confidence Interval',\n",
       " 'Economy (GDP per Capita)',\n",
       " 'Family',\n",
       " 'Health (Life Expectancy)',\n",
       " 'Freedom',\n",
       " 'Generosity',\n",
       " 'Trust (Government Corruption)',\n",
       " 'Dystopia Residual',\n",
       " 'Region',\n",
       " 'tmp_name',\n",
       " 'C15',\n",
       " 'HR15']"
      ]
     },
     "execution_count": 52,
     "metadata": {},
     "output_type": "execute_result"
    }
   ],
   "source": [
    "happyDF.columns"
   ]
  },
  {
   "cell_type": "markdown",
   "metadata": {},
   "source": [
    "### Append a column to a dataframe to substract 2017 rank from 2015 rank."
   ]
  },
  {
   "cell_type": "code",
   "execution_count": 54,
   "metadata": {},
   "outputs": [],
   "source": [
    "happyDF = happyDF.withColumn(\"Gain\", happyDF['HR15'] - happyDF['Happiness Rank'])"
   ]
  },
  {
   "cell_type": "markdown",
   "metadata": {},
   "source": [
    "### Display highest values for gain, the positive value for gain interpret as increase in rank"
   ]
  },
  {
   "cell_type": "code",
   "execution_count": 55,
   "metadata": {},
   "outputs": [
    {
     "data": {
      "text/html": [
       "<div>\n",
       "<style scoped>\n",
       "    .dataframe tbody tr th:only-of-type {\n",
       "        vertical-align: middle;\n",
       "    }\n",
       "\n",
       "    .dataframe tbody tr th {\n",
       "        vertical-align: top;\n",
       "    }\n",
       "\n",
       "    .dataframe thead th {\n",
       "        text-align: right;\n",
       "    }\n",
       "</style>\n",
       "<table border=\"1\" class=\"dataframe\">\n",
       "  <thead>\n",
       "    <tr style=\"text-align: right;\">\n",
       "      <th></th>\n",
       "      <th>Country</th>\n",
       "      <th>Gain</th>\n",
       "    </tr>\n",
       "  </thead>\n",
       "  <tbody>\n",
       "    <tr>\n",
       "      <th>0</th>\n",
       "      <td>Latvia</td>\n",
       "      <td>35</td>\n",
       "    </tr>\n",
       "    <tr>\n",
       "      <th>1</th>\n",
       "      <td>Egypt</td>\n",
       "      <td>31</td>\n",
       "    </tr>\n",
       "    <tr>\n",
       "      <th>2</th>\n",
       "      <td>Romania</td>\n",
       "      <td>29</td>\n",
       "    </tr>\n",
       "    <tr>\n",
       "      <th>3</th>\n",
       "      <td>Hungary</td>\n",
       "      <td>29</td>\n",
       "    </tr>\n",
       "    <tr>\n",
       "      <th>4</th>\n",
       "      <td>Bulgaria</td>\n",
       "      <td>29</td>\n",
       "    </tr>\n",
       "    <tr>\n",
       "      <th>5</th>\n",
       "      <td>Senegal</td>\n",
       "      <td>27</td>\n",
       "    </tr>\n",
       "    <tr>\n",
       "      <th>6</th>\n",
       "      <td>Cameroon</td>\n",
       "      <td>26</td>\n",
       "    </tr>\n",
       "    <tr>\n",
       "      <th>7</th>\n",
       "      <td>Gabon</td>\n",
       "      <td>25</td>\n",
       "    </tr>\n",
       "    <tr>\n",
       "      <th>8</th>\n",
       "      <td>Ivory Coast</td>\n",
       "      <td>23</td>\n",
       "    </tr>\n",
       "    <tr>\n",
       "      <th>9</th>\n",
       "      <td>Nepal</td>\n",
       "      <td>22</td>\n",
       "    </tr>\n",
       "  </tbody>\n",
       "</table>\n",
       "</div>"
      ],
      "text/plain": [
       "       Country  Gain\n",
       "0       Latvia    35\n",
       "1        Egypt    31\n",
       "2      Romania    29\n",
       "3      Hungary    29\n",
       "4     Bulgaria    29\n",
       "5      Senegal    27\n",
       "6     Cameroon    26\n",
       "7        Gabon    25\n",
       "8  Ivory Coast    23\n",
       "9        Nepal    22"
      ]
     },
     "execution_count": 55,
     "metadata": {},
     "output_type": "execute_result"
    }
   ],
   "source": [
    "happyDF.select('Country', 'Gain').orderBy(desc('Gain')).toPandas().head(10)"
   ]
  },
  {
   "cell_type": "markdown",
   "metadata": {
    "collapsed": true
   },
   "source": [
    "## From 2015 to 2017, which country’s happiness ranking decreased the most?"
   ]
  },
  {
   "cell_type": "markdown",
   "metadata": {},
   "source": [
    "### Display lowest values for gain, the negetive value for gain interpret as decrease in rank"
   ]
  },
  {
   "cell_type": "code",
   "execution_count": 56,
   "metadata": {},
   "outputs": [
    {
     "data": {
      "text/html": [
       "<div>\n",
       "<style scoped>\n",
       "    .dataframe tbody tr th:only-of-type {\n",
       "        vertical-align: middle;\n",
       "    }\n",
       "\n",
       "    .dataframe tbody tr th {\n",
       "        vertical-align: top;\n",
       "    }\n",
       "\n",
       "    .dataframe thead th {\n",
       "        text-align: right;\n",
       "    }\n",
       "</style>\n",
       "<table border=\"1\" class=\"dataframe\">\n",
       "  <thead>\n",
       "    <tr style=\"text-align: right;\">\n",
       "      <th></th>\n",
       "      <th>Country</th>\n",
       "      <th>Gain</th>\n",
       "    </tr>\n",
       "  </thead>\n",
       "  <tbody>\n",
       "    <tr>\n",
       "      <th>0</th>\n",
       "      <td>Venezuela</td>\n",
       "      <td>-59</td>\n",
       "    </tr>\n",
       "    <tr>\n",
       "      <th>1</th>\n",
       "      <td>Liberia</td>\n",
       "      <td>-32</td>\n",
       "    </tr>\n",
       "    <tr>\n",
       "      <th>2</th>\n",
       "      <td>Zambia</td>\n",
       "      <td>-31</td>\n",
       "    </tr>\n",
       "    <tr>\n",
       "      <th>3</th>\n",
       "      <td>Haiti</td>\n",
       "      <td>-26</td>\n",
       "    </tr>\n",
       "    <tr>\n",
       "      <th>4</th>\n",
       "      <td>Zimbabwe</td>\n",
       "      <td>-23</td>\n",
       "    </tr>\n",
       "    <tr>\n",
       "      <th>5</th>\n",
       "      <td>Kyrgyzstan</td>\n",
       "      <td>-21</td>\n",
       "    </tr>\n",
       "    <tr>\n",
       "      <th>6</th>\n",
       "      <td>Ukraine</td>\n",
       "      <td>-21</td>\n",
       "    </tr>\n",
       "    <tr>\n",
       "      <th>7</th>\n",
       "      <td>Vietnam</td>\n",
       "      <td>-19</td>\n",
       "    </tr>\n",
       "    <tr>\n",
       "      <th>8</th>\n",
       "      <td>Bhutan</td>\n",
       "      <td>-18</td>\n",
       "    </tr>\n",
       "    <tr>\n",
       "      <th>9</th>\n",
       "      <td>Paraguay</td>\n",
       "      <td>-17</td>\n",
       "    </tr>\n",
       "  </tbody>\n",
       "</table>\n",
       "</div>"
      ],
      "text/plain": [
       "      Country  Gain\n",
       "0   Venezuela   -59\n",
       "1     Liberia   -32\n",
       "2      Zambia   -31\n",
       "3       Haiti   -26\n",
       "4    Zimbabwe   -23\n",
       "5  Kyrgyzstan   -21\n",
       "6     Ukraine   -21\n",
       "7     Vietnam   -19\n",
       "8      Bhutan   -18\n",
       "9    Paraguay   -17"
      ]
     },
     "execution_count": 56,
     "metadata": {},
     "output_type": "execute_result"
    }
   ],
   "source": [
    "happyDF.select('Country', 'Gain').orderBy(asc('Gain')).toPandas().head(10)"
   ]
  },
  {
   "cell_type": "markdown",
   "metadata": {},
   "source": [
    "Some countries see drastic difference in their happiness countries. This change is not necessarily be reflected in metrics related to health, livability and gdp etc. For example, Venezuela is facing severe economic meltdown and devaluation of currency. From 2013-2016 Liberia witnessed severe Ebola outbreak. While introduction of new constitution, improvement in democratic institutions helped countries like Nepal, Invory Coast helped gain happiness."
   ]
  },
  {
   "cell_type": "markdown",
   "metadata": {},
   "source": [
    "## Happiest Regions in descending orders"
   ]
  },
  {
   "cell_type": "markdown",
   "metadata": {},
   "source": [
    "### Group data for each year by region, aggregate group members by average Happiness Score and order in descending order"
   ]
  },
  {
   "cell_type": "code",
   "execution_count": 64,
   "metadata": {},
   "outputs": [
    {
     "data": {
      "text/html": [
       "<div>\n",
       "<style scoped>\n",
       "    .dataframe tbody tr th:only-of-type {\n",
       "        vertical-align: middle;\n",
       "    }\n",
       "\n",
       "    .dataframe tbody tr th {\n",
       "        vertical-align: top;\n",
       "    }\n",
       "\n",
       "    .dataframe thead th {\n",
       "        text-align: right;\n",
       "    }\n",
       "</style>\n",
       "<table border=\"1\" class=\"dataframe\">\n",
       "  <thead>\n",
       "    <tr style=\"text-align: right;\">\n",
       "      <th></th>\n",
       "      <th>Region</th>\n",
       "      <th>avg(Happiness Score)</th>\n",
       "    </tr>\n",
       "  </thead>\n",
       "  <tbody>\n",
       "    <tr>\n",
       "      <th>0</th>\n",
       "      <td>Australia and New Zealand</td>\n",
       "      <td>7.285000</td>\n",
       "    </tr>\n",
       "    <tr>\n",
       "      <th>1</th>\n",
       "      <td>North America</td>\n",
       "      <td>7.273000</td>\n",
       "    </tr>\n",
       "    <tr>\n",
       "      <th>2</th>\n",
       "      <td>Western Europe</td>\n",
       "      <td>6.689619</td>\n",
       "    </tr>\n",
       "    <tr>\n",
       "      <th>3</th>\n",
       "      <td>Latin America and Caribbean</td>\n",
       "      <td>6.144682</td>\n",
       "    </tr>\n",
       "    <tr>\n",
       "      <th>4</th>\n",
       "      <td>Eastern Asia</td>\n",
       "      <td>5.626167</td>\n",
       "    </tr>\n",
       "    <tr>\n",
       "      <th>5</th>\n",
       "      <td>Middle East and Northern Africa</td>\n",
       "      <td>5.406900</td>\n",
       "    </tr>\n",
       "    <tr>\n",
       "      <th>6</th>\n",
       "      <td>Central and Eastern Europe</td>\n",
       "      <td>5.332931</td>\n",
       "    </tr>\n",
       "    <tr>\n",
       "      <th>7</th>\n",
       "      <td>Southeastern Asia</td>\n",
       "      <td>5.317444</td>\n",
       "    </tr>\n",
       "    <tr>\n",
       "      <th>8</th>\n",
       "      <td>Southern Asia</td>\n",
       "      <td>4.580857</td>\n",
       "    </tr>\n",
       "    <tr>\n",
       "      <th>9</th>\n",
       "      <td>Sub-Saharan Africa</td>\n",
       "      <td>4.202800</td>\n",
       "    </tr>\n",
       "  </tbody>\n",
       "</table>\n",
       "</div>"
      ],
      "text/plain": [
       "                            Region  avg(Happiness Score)\n",
       "0        Australia and New Zealand              7.285000\n",
       "1                    North America              7.273000\n",
       "2                   Western Europe              6.689619\n",
       "3      Latin America and Caribbean              6.144682\n",
       "4                     Eastern Asia              5.626167\n",
       "5  Middle East and Northern Africa              5.406900\n",
       "6       Central and Eastern Europe              5.332931\n",
       "7                Southeastern Asia              5.317444\n",
       "8                    Southern Asia              4.580857\n",
       "9               Sub-Saharan Africa              4.202800"
      ]
     },
     "execution_count": 64,
     "metadata": {},
     "output_type": "execute_result"
    }
   ],
   "source": [
    "wh2015.groupBy('Region').agg(mean('Happiness Score')).orderBy(desc('avg(Happiness Score)')).toPandas()"
   ]
  },
  {
   "cell_type": "markdown",
   "metadata": {},
   "source": [
    "### Happiest to least happiest continents in descending orders"
   ]
  },
  {
   "cell_type": "code",
   "execution_count": 65,
   "metadata": {},
   "outputs": [
    {
     "data": {
      "text/html": [
       "<div>\n",
       "<style scoped>\n",
       "    .dataframe tbody tr th:only-of-type {\n",
       "        vertical-align: middle;\n",
       "    }\n",
       "\n",
       "    .dataframe tbody tr th {\n",
       "        vertical-align: top;\n",
       "    }\n",
       "\n",
       "    .dataframe thead th {\n",
       "        text-align: right;\n",
       "    }\n",
       "</style>\n",
       "<table border=\"1\" class=\"dataframe\">\n",
       "  <thead>\n",
       "    <tr style=\"text-align: right;\">\n",
       "      <th></th>\n",
       "      <th>Region</th>\n",
       "      <th>avg(Happiness Score)</th>\n",
       "    </tr>\n",
       "  </thead>\n",
       "  <tbody>\n",
       "    <tr>\n",
       "      <th>0</th>\n",
       "      <td>Australia and New Zealand</td>\n",
       "      <td>7.323500</td>\n",
       "    </tr>\n",
       "    <tr>\n",
       "      <th>1</th>\n",
       "      <td>North America</td>\n",
       "      <td>7.254000</td>\n",
       "    </tr>\n",
       "    <tr>\n",
       "      <th>2</th>\n",
       "      <td>Western Europe</td>\n",
       "      <td>6.685667</td>\n",
       "    </tr>\n",
       "    <tr>\n",
       "      <th>3</th>\n",
       "      <td>Latin America and Caribbean</td>\n",
       "      <td>6.101750</td>\n",
       "    </tr>\n",
       "    <tr>\n",
       "      <th>4</th>\n",
       "      <td>Eastern Asia</td>\n",
       "      <td>5.624167</td>\n",
       "    </tr>\n",
       "    <tr>\n",
       "      <th>5</th>\n",
       "      <td>Middle East and Northern Africa</td>\n",
       "      <td>5.386053</td>\n",
       "    </tr>\n",
       "    <tr>\n",
       "      <th>6</th>\n",
       "      <td>Central and Eastern Europe</td>\n",
       "      <td>5.370690</td>\n",
       "    </tr>\n",
       "    <tr>\n",
       "      <th>7</th>\n",
       "      <td>Southeastern Asia</td>\n",
       "      <td>5.338889</td>\n",
       "    </tr>\n",
       "    <tr>\n",
       "      <th>8</th>\n",
       "      <td>Southern Asia</td>\n",
       "      <td>4.563286</td>\n",
       "    </tr>\n",
       "    <tr>\n",
       "      <th>9</th>\n",
       "      <td>Sub-Saharan Africa</td>\n",
       "      <td>4.136421</td>\n",
       "    </tr>\n",
       "  </tbody>\n",
       "</table>\n",
       "</div>"
      ],
      "text/plain": [
       "                            Region  avg(Happiness Score)\n",
       "0        Australia and New Zealand              7.323500\n",
       "1                    North America              7.254000\n",
       "2                   Western Europe              6.685667\n",
       "3      Latin America and Caribbean              6.101750\n",
       "4                     Eastern Asia              5.624167\n",
       "5  Middle East and Northern Africa              5.386053\n",
       "6       Central and Eastern Europe              5.370690\n",
       "7                Southeastern Asia              5.338889\n",
       "8                    Southern Asia              4.563286\n",
       "9               Sub-Saharan Africa              4.136421"
      ]
     },
     "execution_count": 65,
     "metadata": {},
     "output_type": "execute_result"
    }
   ],
   "source": [
    "wh2016.groupBy('Region').agg(mean('Happiness Score')).orderBy(desc('avg(Happiness Score)')).toPandas()"
   ]
  },
  {
   "cell_type": "code",
   "execution_count": 58,
   "metadata": {},
   "outputs": [
    {
     "data": {
      "text/html": [
       "<div>\n",
       "<style scoped>\n",
       "    .dataframe tbody tr th:only-of-type {\n",
       "        vertical-align: middle;\n",
       "    }\n",
       "\n",
       "    .dataframe tbody tr th {\n",
       "        vertical-align: top;\n",
       "    }\n",
       "\n",
       "    .dataframe thead th {\n",
       "        text-align: right;\n",
       "    }\n",
       "</style>\n",
       "<table border=\"1\" class=\"dataframe\">\n",
       "  <thead>\n",
       "    <tr style=\"text-align: right;\">\n",
       "      <th></th>\n",
       "      <th>Region</th>\n",
       "      <th>avg(Happiness Score)</th>\n",
       "    </tr>\n",
       "  </thead>\n",
       "  <tbody>\n",
       "    <tr>\n",
       "      <th>0</th>\n",
       "      <td>Australia and New Zealand</td>\n",
       "      <td>7.299000</td>\n",
       "    </tr>\n",
       "    <tr>\n",
       "      <th>1</th>\n",
       "      <td>North America</td>\n",
       "      <td>7.154500</td>\n",
       "    </tr>\n",
       "    <tr>\n",
       "      <th>2</th>\n",
       "      <td>Western Europe</td>\n",
       "      <td>6.703714</td>\n",
       "    </tr>\n",
       "    <tr>\n",
       "      <th>3</th>\n",
       "      <td>Latin America and Caribbean</td>\n",
       "      <td>5.957818</td>\n",
       "    </tr>\n",
       "    <tr>\n",
       "      <th>4</th>\n",
       "      <td>Eastern Asia</td>\n",
       "      <td>5.496500</td>\n",
       "    </tr>\n",
       "    <tr>\n",
       "      <th>5</th>\n",
       "      <td>Southeastern Asia</td>\n",
       "      <td>5.444875</td>\n",
       "    </tr>\n",
       "    <tr>\n",
       "      <th>6</th>\n",
       "      <td>Central and Eastern Europe</td>\n",
       "      <td>5.409931</td>\n",
       "    </tr>\n",
       "    <tr>\n",
       "      <th>7</th>\n",
       "      <td>Middle East and Northern Africa</td>\n",
       "      <td>5.369684</td>\n",
       "    </tr>\n",
       "    <tr>\n",
       "      <th>8</th>\n",
       "      <td>Southern Asia</td>\n",
       "      <td>4.628429</td>\n",
       "    </tr>\n",
       "    <tr>\n",
       "      <th>9</th>\n",
       "      <td>Sub-Saharan Africa</td>\n",
       "      <td>4.147639</td>\n",
       "    </tr>\n",
       "  </tbody>\n",
       "</table>\n",
       "</div>"
      ],
      "text/plain": [
       "                            Region  avg(Happiness Score)\n",
       "0        Australia and New Zealand              7.299000\n",
       "1                    North America              7.154500\n",
       "2                   Western Europe              6.703714\n",
       "3      Latin America and Caribbean              5.957818\n",
       "4                     Eastern Asia              5.496500\n",
       "5                Southeastern Asia              5.444875\n",
       "6       Central and Eastern Europe              5.409931\n",
       "7  Middle East and Northern Africa              5.369684\n",
       "8                    Southern Asia              4.628429\n",
       "9               Sub-Saharan Africa              4.147639"
      ]
     },
     "execution_count": 58,
     "metadata": {},
     "output_type": "execute_result"
    }
   ],
   "source": [
    "wh2017.groupBy('Region').agg(mean('Happiness Score')).orderBy(desc('avg(Happiness Score)')).toPandas()"
   ]
  },
  {
   "cell_type": "markdown",
   "metadata": {},
   "source": [
    "### In the original dataset the region is provided, these regions are not based on geographical continental boundries. To tackle this issue, I'm using another dataset with countries and their country codes, continents, region and sub-region"
   ]
  },
  {
   "cell_type": "markdown",
   "metadata": {},
   "source": [
    "### Import some additional data to dataframe, In order to obtain continents information and country codes.\n",
    "** it is important that data should have same country name format/names as world happiness dataset **\n",
    "\n",
    "Country codes will be required for choropleth.<br/>\n",
    "Continents are required for grouping countries further by contients, instead of regions"
   ]
  },
  {
   "cell_type": "code",
   "execution_count": 59,
   "metadata": {},
   "outputs": [],
   "source": [
    "countries = spark.read.csv('countries.csv', inferSchema=True, header=True)"
   ]
  },
  {
   "cell_type": "markdown",
   "metadata": {},
   "source": [
    "### Select country name and continets"
   ]
  },
  {
   "cell_type": "code",
   "execution_count": 60,
   "metadata": {},
   "outputs": [],
   "source": [
    "continents = countries.select('name', 'continent')"
   ]
  },
  {
   "cell_type": "markdown",
   "metadata": {},
   "source": [
    "### Show continents dataframe"
   ]
  },
  {
   "cell_type": "code",
   "execution_count": 61,
   "metadata": {},
   "outputs": [
    {
     "name": "stdout",
     "output_type": "stream",
     "text": [
      "+-------------------+--------------------+\n",
      "|               name|           continent|\n",
      "+-------------------+--------------------+\n",
      "|        Afghanistan|                Asia|\n",
      "|      Åland Islands|              Europe|\n",
      "|            Albania|              Europe|\n",
      "|            Algeria|              Africa|\n",
      "|     American Samoa|Australia and Oce...|\n",
      "|            Andorra|              Europe|\n",
      "|             Angola|              Africa|\n",
      "|           Anguilla|       North America|\n",
      "|         Antarctica|                null|\n",
      "|Antigua and Barbuda|       North America|\n",
      "|          Argentina|       South America|\n",
      "|            Armenia|                Asia|\n",
      "|              Aruba|       North America|\n",
      "|          Australia|Australia and Oce...|\n",
      "|            Austria|              Europe|\n",
      "|         Azerbaijan|                Asia|\n",
      "|            Bahamas|       North America|\n",
      "|            Bahrain|                Asia|\n",
      "|         Bangladesh|                Asia|\n",
      "|           Barbados|       North America|\n",
      "+-------------------+--------------------+\n",
      "only showing top 20 rows\n",
      "\n"
     ]
    }
   ],
   "source": [
    "continents.show()"
   ]
  },
  {
   "cell_type": "markdown",
   "metadata": {},
   "source": [
    "### Join continents dataframe with dataframe for each year on equality with predicate of country name being equal.\n",
    "We perform a left outer join so we do not lose out on any information from world happiness dataframe, if there is any mismatch between names"
   ]
  },
  {
   "cell_type": "code",
   "execution_count": 62,
   "metadata": {},
   "outputs": [],
   "source": [
    "wh2015gp = wh2015.join(continents, continents['name'] == wh2015['Country'],\"left_outer\")\n",
    "wh2016gp = wh2016.join(continents, continents['name'] == wh2016['Country'],\"left_outer\")\n",
    "wh2017gp = wh2017.join(continents, continents['name'] == wh2017['Country'],\"left_outer\")"
   ]
  },
  {
   "cell_type": "markdown",
   "metadata": {},
   "source": [
    "### Group data for each year by continens, aggregate group members by average Happiness Score and order in descending order"
   ]
  },
  {
   "cell_type": "code",
   "execution_count": 63,
   "metadata": {},
   "outputs": [
    {
     "data": {
      "text/html": [
       "<div>\n",
       "<style scoped>\n",
       "    .dataframe tbody tr th:only-of-type {\n",
       "        vertical-align: middle;\n",
       "    }\n",
       "\n",
       "    .dataframe tbody tr th {\n",
       "        vertical-align: top;\n",
       "    }\n",
       "\n",
       "    .dataframe thead th {\n",
       "        text-align: right;\n",
       "    }\n",
       "</style>\n",
       "<table border=\"1\" class=\"dataframe\">\n",
       "  <thead>\n",
       "    <tr style=\"text-align: right;\">\n",
       "      <th></th>\n",
       "      <th>continent</th>\n",
       "      <th>avg(Happiness Score)</th>\n",
       "    </tr>\n",
       "  </thead>\n",
       "  <tbody>\n",
       "    <tr>\n",
       "      <th>0</th>\n",
       "      <td>Australia and Oceania</td>\n",
       "      <td>7.285000</td>\n",
       "    </tr>\n",
       "    <tr>\n",
       "      <th>1</th>\n",
       "      <td>South America</td>\n",
       "      <td>6.348636</td>\n",
       "    </tr>\n",
       "    <tr>\n",
       "      <th>2</th>\n",
       "      <td>North America</td>\n",
       "      <td>6.145692</td>\n",
       "    </tr>\n",
       "    <tr>\n",
       "      <th>3</th>\n",
       "      <td>Europe</td>\n",
       "      <td>6.060400</td>\n",
       "    </tr>\n",
       "    <tr>\n",
       "      <th>4</th>\n",
       "      <td>Asia</td>\n",
       "      <td>5.302851</td>\n",
       "    </tr>\n",
       "    <tr>\n",
       "      <th>5</th>\n",
       "      <td>Africa</td>\n",
       "      <td>4.298156</td>\n",
       "    </tr>\n",
       "  </tbody>\n",
       "</table>\n",
       "</div>"
      ],
      "text/plain": [
       "               continent  avg(Happiness Score)\n",
       "0  Australia and Oceania              7.285000\n",
       "1          South America              6.348636\n",
       "2          North America              6.145692\n",
       "3                 Europe              6.060400\n",
       "4                   Asia              5.302851\n",
       "5                 Africa              4.298156"
      ]
     },
     "execution_count": 63,
     "metadata": {},
     "output_type": "execute_result"
    }
   ],
   "source": [
    "wh2015gp.groupBy('continent').agg(mean('Happiness Score')).orderBy(desc('avg(Happiness Score)')).toPandas()"
   ]
  },
  {
   "cell_type": "markdown",
   "metadata": {},
   "source": [
    "#### Continents happiest to least happiest in descending order"
   ]
  },
  {
   "cell_type": "code",
   "execution_count": 64,
   "metadata": {},
   "outputs": [
    {
     "data": {
      "text/html": [
       "<div>\n",
       "<style scoped>\n",
       "    .dataframe tbody tr th:only-of-type {\n",
       "        vertical-align: middle;\n",
       "    }\n",
       "\n",
       "    .dataframe tbody tr th {\n",
       "        vertical-align: top;\n",
       "    }\n",
       "\n",
       "    .dataframe thead th {\n",
       "        text-align: right;\n",
       "    }\n",
       "</style>\n",
       "<table border=\"1\" class=\"dataframe\">\n",
       "  <thead>\n",
       "    <tr style=\"text-align: right;\">\n",
       "      <th></th>\n",
       "      <th>continent</th>\n",
       "      <th>avg(Happiness Score)</th>\n",
       "    </tr>\n",
       "  </thead>\n",
       "  <tbody>\n",
       "    <tr>\n",
       "      <th>0</th>\n",
       "      <td>Australia and Oceania</td>\n",
       "      <td>7.323500</td>\n",
       "    </tr>\n",
       "    <tr>\n",
       "      <th>1</th>\n",
       "      <td>South America</td>\n",
       "      <td>6.251364</td>\n",
       "    </tr>\n",
       "    <tr>\n",
       "      <th>2</th>\n",
       "      <td>North America</td>\n",
       "      <td>6.145667</td>\n",
       "    </tr>\n",
       "    <tr>\n",
       "      <th>3</th>\n",
       "      <td>Europe</td>\n",
       "      <td>6.079600</td>\n",
       "    </tr>\n",
       "    <tr>\n",
       "      <th>4</th>\n",
       "      <td>Asia</td>\n",
       "      <td>5.271957</td>\n",
       "    </tr>\n",
       "    <tr>\n",
       "      <th>5</th>\n",
       "      <td>Africa</td>\n",
       "      <td>4.272372</td>\n",
       "    </tr>\n",
       "  </tbody>\n",
       "</table>\n",
       "</div>"
      ],
      "text/plain": [
       "               continent  avg(Happiness Score)\n",
       "0  Australia and Oceania              7.323500\n",
       "1          South America              6.251364\n",
       "2          North America              6.145667\n",
       "3                 Europe              6.079600\n",
       "4                   Asia              5.271957\n",
       "5                 Africa              4.272372"
      ]
     },
     "execution_count": 64,
     "metadata": {},
     "output_type": "execute_result"
    }
   ],
   "source": [
    "wh2016gp.groupBy('continent').agg(mean('Happiness Score')).orderBy(desc('avg(Happiness Score)')).toPandas()"
   ]
  },
  {
   "cell_type": "code",
   "execution_count": 65,
   "metadata": {
    "scrolled": true
   },
   "outputs": [
    {
     "data": {
      "text/html": [
       "<div>\n",
       "<style scoped>\n",
       "    .dataframe tbody tr th:only-of-type {\n",
       "        vertical-align: middle;\n",
       "    }\n",
       "\n",
       "    .dataframe tbody tr th {\n",
       "        vertical-align: top;\n",
       "    }\n",
       "\n",
       "    .dataframe thead th {\n",
       "        text-align: right;\n",
       "    }\n",
       "</style>\n",
       "<table border=\"1\" class=\"dataframe\">\n",
       "  <thead>\n",
       "    <tr style=\"text-align: right;\">\n",
       "      <th></th>\n",
       "      <th>continent</th>\n",
       "      <th>avg(Happiness Score)</th>\n",
       "    </tr>\n",
       "  </thead>\n",
       "  <tbody>\n",
       "    <tr>\n",
       "      <th>0</th>\n",
       "      <td>Australia and Oceania</td>\n",
       "      <td>7.299000</td>\n",
       "    </tr>\n",
       "    <tr>\n",
       "      <th>1</th>\n",
       "      <td>Europe</td>\n",
       "      <td>6.117050</td>\n",
       "    </tr>\n",
       "    <tr>\n",
       "      <th>2</th>\n",
       "      <td>South America</td>\n",
       "      <td>6.098600</td>\n",
       "    </tr>\n",
       "    <tr>\n",
       "      <th>3</th>\n",
       "      <td>North America</td>\n",
       "      <td>6.028214</td>\n",
       "    </tr>\n",
       "    <tr>\n",
       "      <th>4</th>\n",
       "      <td>Asia</td>\n",
       "      <td>5.273953</td>\n",
       "    </tr>\n",
       "    <tr>\n",
       "      <th>5</th>\n",
       "      <td>Africa</td>\n",
       "      <td>4.280171</td>\n",
       "    </tr>\n",
       "  </tbody>\n",
       "</table>\n",
       "</div>"
      ],
      "text/plain": [
       "               continent  avg(Happiness Score)\n",
       "0  Australia and Oceania              7.299000\n",
       "1                 Europe              6.117050\n",
       "2          South America              6.098600\n",
       "3          North America              6.028214\n",
       "4                   Asia              5.273953\n",
       "5                 Africa              4.280171"
      ]
     },
     "execution_count": 65,
     "metadata": {},
     "output_type": "execute_result"
    }
   ],
   "source": [
    "wh2017gp.groupBy('continent').agg(mean('Happiness Score')).orderBy(desc('avg(Happiness Score)')).toPandas()"
   ]
  },
  {
   "cell_type": "markdown",
   "metadata": {},
   "source": [
    "## Visualizing data on a map\n",
    "\n",
    "requires plotly\n",
    "\n",
    "**pip install plotly**"
   ]
  },
  {
   "cell_type": "markdown",
   "metadata": {},
   "source": [
    "### Selecting country name and country code from countries dataset."
   ]
  },
  {
   "cell_type": "code",
   "execution_count": 66,
   "metadata": {},
   "outputs": [],
   "source": [
    "codes = countries.select('name','alpha-3')"
   ]
  },
  {
   "cell_type": "markdown",
   "metadata": {},
   "source": [
    "### Display newly created dataframe"
   ]
  },
  {
   "cell_type": "code",
   "execution_count": 67,
   "metadata": {},
   "outputs": [
    {
     "name": "stdout",
     "output_type": "stream",
     "text": [
      "+-------------------+-------+\n",
      "|               name|alpha-3|\n",
      "+-------------------+-------+\n",
      "|        Afghanistan|    AFG|\n",
      "|      Åland Islands|    ALA|\n",
      "|            Albania|    ALB|\n",
      "|            Algeria|    DZA|\n",
      "|     American Samoa|    ASM|\n",
      "|            Andorra|    AND|\n",
      "|             Angola|    AGO|\n",
      "|           Anguilla|    AIA|\n",
      "|         Antarctica|    ATA|\n",
      "|Antigua and Barbuda|    ATG|\n",
      "|          Argentina|    ARG|\n",
      "|            Armenia|    ARM|\n",
      "|              Aruba|    ABW|\n",
      "|          Australia|    AUS|\n",
      "|            Austria|    AUT|\n",
      "|         Azerbaijan|    AZE|\n",
      "|            Bahamas|    BHS|\n",
      "|            Bahrain|    BHR|\n",
      "|         Bangladesh|    BGD|\n",
      "|           Barbados|    BRB|\n",
      "+-------------------+-------+\n",
      "only showing top 20 rows\n",
      "\n"
     ]
    }
   ],
   "source": [
    "codes.show()"
   ]
  },
  {
   "cell_type": "markdown",
   "metadata": {},
   "source": [
    "### Perform a left outer join on WH2017 and country codes dataframes in order to add country codes to world happiness dataframes"
   ]
  },
  {
   "cell_type": "code",
   "execution_count": 68,
   "metadata": {},
   "outputs": [],
   "source": [
    "dfwCode = wh2017.join(codes, codes['name'] == wh2017['Country'], \"left_outer\")"
   ]
  },
  {
   "cell_type": "markdown",
   "metadata": {},
   "source": [
    "### Convert new spark dataframe to a pandas dataframe"
   ]
  },
  {
   "cell_type": "code",
   "execution_count": 69,
   "metadata": {},
   "outputs": [],
   "source": [
    "df = dfwCode.toPandas()"
   ]
  },
  {
   "cell_type": "markdown",
   "metadata": {},
   "source": [
    "### Import required libraries for choropleth"
   ]
  },
  {
   "cell_type": "code",
   "execution_count": 70,
   "metadata": {
    "collapsed": true
   },
   "outputs": [
    {
     "ename": "ImportError",
     "evalue": "No module named 'plotly'",
     "output_type": "error",
     "traceback": [
      "\u001b[0;31m---------------------------------------------------------------------------\u001b[0m",
      "\u001b[0;31mImportError\u001b[0m                               Traceback (most recent call last)",
      "\u001b[0;32m<ipython-input-70-be1b384cc24b>\u001b[0m in \u001b[0;36m<module>\u001b[0;34m()\u001b[0m\n\u001b[0;32m----> 1\u001b[0;31m \u001b[0;32mimport\u001b[0m \u001b[0mplotly\u001b[0m\u001b[0;34m.\u001b[0m\u001b[0mgraph_objs\u001b[0m \u001b[0;32mas\u001b[0m \u001b[0mgo\u001b[0m\u001b[0;34m\u001b[0m\u001b[0m\n\u001b[0m\u001b[1;32m      2\u001b[0m \u001b[0;32mfrom\u001b[0m \u001b[0mplotly\u001b[0m\u001b[0;34m.\u001b[0m\u001b[0moffline\u001b[0m \u001b[0;32mimport\u001b[0m \u001b[0minit_notebook_mode\u001b[0m\u001b[0;34m,\u001b[0m \u001b[0miplot\u001b[0m\u001b[0;34m\u001b[0m\u001b[0m\n",
      "\u001b[0;31mImportError\u001b[0m: No module named 'plotly'"
     ]
    }
   ],
   "source": [
    "import plotly.graph_objs as go\n",
    "from plotly.offline import init_notebook_mode, iplot"
   ]
  },
  {
   "cell_type": "markdown",
   "metadata": {},
   "source": [
    "#### Inititialze plotply for notebook mode"
   ]
  },
  {
   "cell_type": "code",
   "execution_count": 71,
   "metadata": {
    "collapsed": true
   },
   "outputs": [
    {
     "ename": "NameError",
     "evalue": "name 'init_notebook_mode' is not defined",
     "output_type": "error",
     "traceback": [
      "\u001b[0;31m---------------------------------------------------------------------------\u001b[0m",
      "\u001b[0;31mNameError\u001b[0m                                 Traceback (most recent call last)",
      "\u001b[0;32m<ipython-input-71-f9b08c18bcc6>\u001b[0m in \u001b[0;36m<module>\u001b[0;34m()\u001b[0m\n\u001b[0;32m----> 1\u001b[0;31m \u001b[0minit_notebook_mode\u001b[0m\u001b[0;34m(\u001b[0m\u001b[0mconnected\u001b[0m\u001b[0;34m=\u001b[0m\u001b[0;32mTrue\u001b[0m\u001b[0;34m)\u001b[0m\u001b[0;34m\u001b[0m\u001b[0m\n\u001b[0m",
      "\u001b[0;31mNameError\u001b[0m: name 'init_notebook_mode' is not defined"
     ]
    }
   ],
   "source": [
    "init_notebook_mode(connected=True)"
   ]
  },
  {
   "cell_type": "markdown",
   "metadata": {},
   "source": [
    "### Construct data dictionary to pass an argument to plotly"
   ]
  },
  {
   "cell_type": "code",
   "execution_count": 72,
   "metadata": {},
   "outputs": [],
   "source": [
    "data = dict(type='choropleth',\n",
    "            locations=df['alpha-3'],\n",
    "            locationmode='Country Names',\n",
    "            z = df['Happiness Score'],\n",
    "            text = df['Country'],\n",
    "            colorbar = {'title':'Happyness Score'},\n",
    "            colorscale = 'Portland',\n",
    "            reversescale = True\n",
    "           )"
   ]
  },
  {
   "cell_type": "markdown",
   "metadata": {},
   "source": [
    "### Configure additional configuration for choropleth, such as title, projection type."
   ]
  },
  {
   "cell_type": "code",
   "execution_count": 73,
   "metadata": {},
   "outputs": [],
   "source": [
    "layout = dict(title = '2017 World Happiness Scores',\n",
    "geo = dict(showframe=True, projection=dict(type='equirectangular')))\n",
    "\n",
    "# projection=dict(type='orthographic') # for fun"
   ]
  },
  {
   "cell_type": "markdown",
   "metadata": {},
   "source": [
    "### Display the worldmap wth populated data"
   ]
  },
  {
   "cell_type": "code",
   "execution_count": 74,
   "metadata": {
    "collapsed": true
   },
   "outputs": [
    {
     "ename": "NameError",
     "evalue": "name 'go' is not defined",
     "output_type": "error",
     "traceback": [
      "\u001b[0;31m---------------------------------------------------------------------------\u001b[0m",
      "\u001b[0;31mNameError\u001b[0m                                 Traceback (most recent call last)",
      "\u001b[0;32m<ipython-input-74-110cacad81da>\u001b[0m in \u001b[0;36m<module>\u001b[0;34m()\u001b[0m\n\u001b[0;32m----> 1\u001b[0;31m \u001b[0mchoromap\u001b[0m \u001b[0;34m=\u001b[0m \u001b[0mgo\u001b[0m\u001b[0;34m.\u001b[0m\u001b[0mFigure\u001b[0m\u001b[0;34m(\u001b[0m\u001b[0mdata\u001b[0m \u001b[0;34m=\u001b[0m \u001b[0;34m[\u001b[0m\u001b[0mdata\u001b[0m\u001b[0;34m]\u001b[0m\u001b[0;34m,\u001b[0m \u001b[0mlayout\u001b[0m\u001b[0;34m=\u001b[0m\u001b[0mlayout\u001b[0m\u001b[0;34m)\u001b[0m\u001b[0;34m\u001b[0m\u001b[0m\n\u001b[0m\u001b[1;32m      2\u001b[0m \u001b[0miplot\u001b[0m\u001b[0;34m(\u001b[0m\u001b[0mchoromap\u001b[0m\u001b[0;34m,\u001b[0m \u001b[0mvalidate\u001b[0m\u001b[0;34m=\u001b[0m\u001b[0;32mFalse\u001b[0m\u001b[0;34m)\u001b[0m\u001b[0;34m\u001b[0m\u001b[0m\n",
      "\u001b[0;31mNameError\u001b[0m: name 'go' is not defined"
     ]
    }
   ],
   "source": [
    "choromap = go.Figure(data = [data], layout=layout)\n",
    "iplot(choromap, validate=False)"
   ]
  },
  {
   "cell_type": "code",
   "execution_count": null,
   "metadata": {
    "collapsed": true
   },
   "outputs": [],
   "source": []
  }
 ],
 "metadata": {
  "kernelspec": {
   "display_name": "Python 3",
   "language": "python",
   "name": "python3"
  },
  "language_info": {
   "codemirror_mode": {
    "name": "ipython",
    "version": 3
   },
   "file_extension": ".py",
   "mimetype": "text/x-python",
   "name": "python",
   "nbconvert_exporter": "python",
   "pygments_lexer": "ipython3",
   "version": "3.6.4"
  }
 },
 "nbformat": 4,
 "nbformat_minor": 2
}
